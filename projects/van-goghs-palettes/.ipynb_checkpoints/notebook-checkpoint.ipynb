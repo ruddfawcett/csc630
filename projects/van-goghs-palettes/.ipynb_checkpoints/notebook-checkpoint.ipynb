{
 "cells": [
  {
   "cell_type": "markdown",
   "metadata": {},
   "source": [
    "## Color Chronology of Van Gogh's Palettes\n",
    "### CSC630: Rudd Fawcett\n",
    "\n",
    "\n",
    "Below, please find specifications about the development of my text project. The website [is live here.](http://csc630.rudd.io/projects/van-goghs-palettes/)."
   ]
  },
  {
   "cell_type": "markdown",
   "metadata": {},
   "source": [
    "The five most dominant colors from 913 of Vincent van Gogh’s oil and watercolor paintings.The goals of this project were two fold:\n",
    "\n",
    "1. To pull dominant colors from almost one thousand Van Gogh Paintings.\n",
    "2. Produce a playful and dumb simple visualization.\n",
    "\n",
    "Images and metadata were sourced from this Wikipedia list, which is available under a Creative Commons Attribution-ShareAlike 3.0 Unported License license. Data was scraped and processed using Python, with help from [this blog post on finding dominant image colors](https://zeevgilovitz.com/detecting-dominant-colours-in-python). The algorithm uses K-Means clustering in order to extract the n-most dominant colors (I ran it for the top five)."
   ]
  },
  {
   "cell_type": "markdown",
   "metadata": {
    "collapsed": true
   },
   "source": [
    "### Preparing Data for Use\n",
    "\n",
    "In order to prepare data for use, I had to first download all of the images from Wikipedia, for which I chose to use BeautifulSoup, a Python web-scraping library."
   ]
  },
  {
   "cell_type": "markdown",
   "metadata": {},
   "source": [
    "### Scraping Data"
   ]
  },
  {
   "cell_type": "code",
   "execution_count": null,
   "metadata": {
    "collapsed": true
   },
   "outputs": [],
   "source": [
    "from bs4 import BeautifulSoup\n",
    "import pandas as pd w\n",
    "\n",
    "page = open('../data/works.html')\n",
    "soup = BeautifulSoup(page, 'lxml')\n",
    "entries = []\n",
    "\n",
    "table = soup.find('table')\n",
    "\n",
    "for row in table.findAll('tr'):\n",
    "    cells = row.findAll('td')\n",
    "\n",
    "    if len(cells) == 5:\n",
    "        no = int(cells[0].text)\n",
    "\n",
    "        if cells[1].find('img'):\n",
    "            image = cells[1].find('img').get('src').replace('./images/', '')\n",
    "\n",
    "        title = cells[2].text.strip()\n",
    "        year = cells[3].text\n",
    "        location = cells[4].text\n",
    "\n",
    "        entry = {\n",
    "            'number': no,\n",
    "            'image': image,\n",
    "            'title': title,\n",
    "            'year': year,\n",
    "            'location': location\n",
    "        }\n",
    "\n",
    "        entries.append(entry)\n",
    "\n",
    "df = pd.DataFrame(entries)\n",
    "df.to_csv('../data/van-gogh-works.csv', index=False, columns=['number', 'title', 'image', 'year', 'location'])"
   ]
  },
  {
   "cell_type": "markdown",
   "metadata": {},
   "source": [
    "After I had a rough cut of all of my data in a primitive CSV file, I could work on cleaning it up."
   ]
  },
  {
   "cell_type": "markdown",
   "metadata": {},
   "source": [
    "### Cleaning CSV and Calculating Dominant Colors"
   ]
  },
  {
   "cell_type": "code",
   "execution_count": null,
   "metadata": {
    "collapsed": true
   },
   "outputs": [],
   "source": [
    "from PIL import Image\n",
    "from kmeans import Kmeans\n",
    "import csv\n",
    "from base64 import b16encode\n",
    "import pandas as pd\n",
    "\n",
    "works = open('../data/van-gogh-works.csv')\n",
    "\n",
    "entries = []\n",
    "k = Kmeans(k=5)\n",
    "\n",
    "for work in csv.DictReader(works):\n",
    "    src = work['image']\n",
    "\n",
    "    img = Image.open('../data/images/{}'.format(src))\n",
    "\n",
    "    try:\n",
    "        rgbs = k.run(img)\n",
    "\n",
    "        for idx in range(len(rgbs)):\n",
    "            rgb = ()\n",
    "            for value in rgbs[idx]:\n",
    "                rgb = rgb + (int(value),)\n",
    "            work['color_{}'.format(idx+1)] = str(b'#'+b16encode(bytes(rgb)), 'utf-8')\n",
    "\n",
    "        entries.append(work)\n",
    "    except:\n",
    "        pass\n",
    "        continue\n",
    "\n",
    "all_works = pd.DataFrame(entries)\n",
    "cols = ['number', 'title', 'image', 'year', 'location', 'color_1', 'color_2', 'color_3', 'color_4', 'color_5']\n",
    "all_works.to_csv('data/van-gogh-works-colors.csv', index=False, columns=cols)"
   ]
  },
  {
   "cell_type": "markdown",
   "metadata": {},
   "source": [
    "As mentioned in the introduction above, this part would not have been possible without the help of the Kmeans color clustering library that is linked in the blog post I referenced."
   ]
  },
  {
   "cell_type": "markdown",
   "metadata": {},
   "source": [
    "## Final Thoughts\n",
    "This was one of the more exciting projects I worked on, and I think that it was because I was truly generating my own data set on something that no one had ever done before.\n",
    "\n",
    "The presentation isn't the absolute best it could be, but it is what it is."
   ]
  },
  {
   "cell_type": "markdown",
   "metadata": {},
   "source": [
    "## Citations and Attributions\n",
    "\n",
    "- https://zeevgilovitz.com/detecting-dominant-colours-in-python\n"
   ]
  }
 ],
 "metadata": {
  "kernelspec": {
   "display_name": "Python 3",
   "language": "python",
   "name": "python3"
  },
  "language_info": {
   "codemirror_mode": {
    "name": "ipython",
    "version": 3
   },
   "file_extension": ".py",
   "mimetype": "text/x-python",
   "name": "python",
   "nbconvert_exporter": "python",
   "pygments_lexer": "ipython3",
   "version": "3.6.1"
  }
 },
 "nbformat": 4,
 "nbformat_minor": 2
}
