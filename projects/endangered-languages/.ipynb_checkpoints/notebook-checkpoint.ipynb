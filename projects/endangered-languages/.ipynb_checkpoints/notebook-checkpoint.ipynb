{
 "cells": [
  {
   "cell_type": "markdown",
   "metadata": {},
   "source": [
    "## Mapping the World's Endangered Languages\n",
    "### CSC630: Rudd Fawcett\n",
    "\n",
    "\n",
    "Below, please find specifications about the development of my map project. The website [is live here.](csc630.rudd.io/projects/endangered-languages/)."
   ]
  },
  {
   "cell_type": "markdown",
   "metadata": {},
   "source": [
    "Looked at the production of two maps — one being a globe and the other a single continental map of Africa, this project focused on the mapping of endangered languages from around the world. The goals of this project were two fold:\n",
    "\n",
    "1. To develop a beautiful experience and website that accurately and interactively mapped endangered languages.\n",
    "2. To develop a firm grasp and understanding of mapping and projections thorugh the use of d3.js\n",
    "\n",
    "As someone who is passionate about the usage and preservation of languages around the world, I was eager to start working on this project.\n",
    "\n",
    "Overall, this project would not have been possible without a great dataset from *The Guardian*, that was [distributed for free use on Kaggle](https://www.kaggle.com/the-guardian/extinct-languages). The dataset, which includes over two thousand endangered languages, includes endangerment status, a rough estimate for number of speakers, coordinates for its epicenter, and even more metadata.\n",
    "\n",
    "Throughout this particular project, I also developed new templates on which the rest of my final data vizualization projects are built."
   ]
  },
  {
   "cell_type": "markdown",
   "metadata": {
    "collapsed": true
   },
   "source": [
    "### Preparing Data for Use\n",
    "\n",
    "The data was pretty much used as is from *The Guardian*, but I did have to clean it in order to remove some mislabeled languages that were, for example, in the middle of the ocean. I did so using the following Python script:"
   ]
  },
  {
   "cell_type": "code",
   "execution_count": null,
   "metadata": {},
   "outputs": [],
   "source": [
    "import json\n",
    "import csv\n",
    "from mpl_toolkits.basemap import Basemap\n",
    "import pandas as pd\n",
    "import shapely.geometry\n",
    "bm = Basemap()\n",
    "\n",
    "original = open('raw/endangered-languages.csv')\n",
    "\n",
    "def clean_coordinates():\n",
    "    on_land = []\n",
    "    off_land = []\n",
    "\n",
    "    for line in csv.DictReader(original):\n",
    "        if (line['Longitude'] and line['Latitude']):\n",
    "            x = float(line['Longitude'])\n",
    "            y = float(line['Latitude'])\n",
    "\n",
    "            if (bm.is_land(x, y)):\n",
    "                on_land.append(line)\n",
    "            else:\n",
    "                off_land.append(line)\n",
    "\n",
    "    land = pd.DataFrame(on_land)\n",
    "    off = pd.DataFrame(off_land)\n",
    "\n",
    "    land.to_csv('clean/endangered-languages-on-land.csv', index=False)\n",
    "    off.to_csv('clean/endangered-languages-off-land.csv', index=False)"
   ]
  },
  {
   "cell_type": "markdown",
   "metadata": {},
   "source": [
    "This script uses the Basemap open source library, and loops through every point in *The Guardian* CSV file in order to check quite simply if it's `on_land` or `off_land`."
   ]
  },
  {
   "cell_type": "markdown",
   "metadata": {},
   "source": [
    "### Additional Challenges\n",
    "Another goal of this project was to push the boundaries of the various map projections that I had come to know and use in previous projects for the course. Ultimately, I ended up using the `d3.geoOrthographic()` and `d3.geoChamberlinAfrica()` projections for my two maps. I chose to map Africa as a standalone content purely due to the fact that it had it's own projection available. This brought up a challenge with how to best display data, however. Due to the large number of points, it didn't make sense to continue to plot points not on Africa, and that proved to be true for the GeoJSON and TopoJSON data as well. Therefore, I came up with the following solution:\n",
    "\n",
    "1. Use Basemap (again) and a custom Africa GeoJSON map file.\n",
    "2. Load the same map file in both Python on Basemap, and also using d3.js.\n",
    "3. Loop through the languages in Python and discard any not within the bounds of continental Africa.\n",
    "4. Save to a new CSV called `endangered-languages-africa.csv`."
   ]
  },
  {
   "cell_type": "code",
   "execution_count": null,
   "metadata": {
    "collapsed": true
   },
   "outputs": [],
   "source": [
    "africa_geojson = json.load(open('africa.geojson'))\n",
    "\n",
    "def africa_coordinates():\n",
    "    in_africa = []\n",
    "\n",
    "    for line in csv.DictReader(original):\n",
    "        if (line['Longitude'] and line['Latitude']):\n",
    "            x = float(line['Longitude'])\n",
    "            y = float(line['Latitude'])\n",
    "\n",
    "            for country in africa_geojson['features']:\n",
    "                shape = shapely.geometry.asShape(country['geometry'])\n",
    "                point = shapely.geometry.Point(x, y)\n",
    "                if shape.contains(point):\n",
    "                    in_africa.append(line)\n",
    "\n",
    "    africa = pd.DataFrame(in_africa)\n",
    "    africa.to_csv('clean/endangered-languages-africa.csv', index=False)"
   ]
  },
  {
   "cell_type": "markdown",
   "metadata": {},
   "source": [
    "## Final Thoughts\n",
    "This proved to be a great project for me to work on. It pushed me both in my aesthetic design ability, and also my ability to problem solve (map projection's can be HARD). Overall, I am glad that I had the opportunity to work on such a project. Make sure to check it out here: http://csc630.rudd.io/projects/endangered-languages/."
   ]
  },
  {
   "cell_type": "markdown",
   "metadata": {},
   "source": [
    "## Citations and Attributions\n",
    "\n",
    "- <em>Extinct Languages</em>. V1. December 7, 2016. Distributed by The Guardian via Kaggle. <a href='https://www.kaggle.com/the-guardian/extinct-languages'>https://www.kaggle.com/the-guardian/extinct-languages</a>.\n",
    "\n",
    "- World Atlas TopoJSON 110m. April 1, 2017. Distributed by Mike Bostock. http://bl.ocks.org/mbostock/raw/4090846/world-110m.json.\n",
    "\n",
    "- World Country Names TopoJSON. Date unkown. Distributed by Mike Bostock. http://bl.ocks.org/mbostock/raw/4090846/world-country-names.tsv.\n",
    "\n",
    "- Africa GeoJSON. https://github.com/codeforamerica/click_that_hood/blob/master/public/data/africa.geojson\n",
    "\n"
   ]
  }
 ],
 "metadata": {
  "kernelspec": {
   "display_name": "Python 3",
   "language": "python",
   "name": "python3"
  },
  "language_info": {
   "codemirror_mode": {
    "name": "ipython",
    "version": 3
   },
   "file_extension": ".py",
   "mimetype": "text/x-python",
   "name": "python",
   "nbconvert_exporter": "python",
   "pygments_lexer": "ipython3",
   "version": "3.6.1"
  }
 },
 "nbformat": 4,
 "nbformat_minor": 2
}
